{
 "cells": [
  {
   "cell_type": "code",
   "execution_count": null,
   "id": "3012e4e3",
   "metadata": {
    "slideshow": {
     "slide_type": "skip"
    }
   },
   "outputs": [],
   "source": [
    "with open(\"Jakub_Bliźniuk_Bartłomiej_Dmitruk.txt\", \"w\", encoding=\"utf-8\") as f:\n",
    "    f.write(\"To wiadomość do zaszyfrowania\")"
   ]
  },
  {
   "cell_type": "markdown",
   "id": "b481b3b7-9d39-4c35-bf78-7f136e29f264",
   "metadata": {
    "slideshow": {
     "slide_type": "slide"
    },
    "tags": []
   },
   "source": [
    "# Biblioteki kryptograficzne w Pythonie\n",
    "## PyCryptodome"
   ]
  },
  {
   "cell_type": "markdown",
   "id": "27a3a5e6",
   "metadata": {
    "slideshow": {
     "slide_type": "slide"
    }
   },
   "source": [
    "## Zadanie 1\n",
    "### Działania na ciałach skończonych"
   ]
  },
  {
   "cell_type": "markdown",
   "id": "c8795c83-9600-45e4-8907-2e56bde5a7c6",
   "metadata": {
    "slideshow": {
     "slide_type": "slide"
    },
    "tags": []
   },
   "source": [
    "W pythonie bardzo łatwo jest impelemntować działania w ciałach skończonych po prostu używając operatora modulo (`%`) - np."
   ]
  },
  {
   "cell_type": "code",
   "execution_count": null,
   "id": "d205bae4-ac1b-4b51-b454-71d25e47172c",
   "metadata": {},
   "outputs": [],
   "source": [
    "(10+8)%13"
   ]
  },
  {
   "cell_type": "code",
   "execution_count": null,
   "id": "3f25b55d",
   "metadata": {},
   "outputs": [],
   "source": [
    "(10-14)%13"
   ]
  },
  {
   "cell_type": "code",
   "execution_count": null,
   "id": "f6a94cfd",
   "metadata": {},
   "outputs": [],
   "source": [
    "(8*3)%13"
   ]
  },
  {
   "cell_type": "markdown",
   "id": "43346c96-a9a6-41f7-840e-153f096391c2",
   "metadata": {
    "slideshow": {
     "slide_type": "subslide"
    },
    "tags": []
   },
   "source": [
    "  Standardowa funkcja do potęgowania pozwala także znaleźć element odwrotny:"
   ]
  },
  {
   "cell_type": "code",
   "execution_count": null,
   "id": "c2cbc3e8-e28a-4217-81e1-757832e13f42",
   "metadata": {
    "tags": []
   },
   "outputs": [],
   "source": [
    "pow(8, -1, 13)"
   ]
  },
  {
   "cell_type": "markdown",
   "id": "0e62d133",
   "metadata": {
    "slideshow": {
     "slide_type": "subslide"
    }
   },
   "source": [
    "Warto zauważyć, że jeśli mamy inną liczbę elementów niż jakaś potęga liczby pierwszej, to istnieją (niezerowe) elementy nieodwracalne"
   ]
  },
  {
   "cell_type": "code",
   "execution_count": null,
   "id": "747804e3",
   "metadata": {},
   "outputs": [],
   "source": [
    "pow(10, -1, 15)"
   ]
  },
  {
   "cell_type": "markdown",
   "id": "c313fa12",
   "metadata": {
    "slideshow": {
     "slide_type": "subslide"
    }
   },
   "source": [
    "Zwykle więc będą nas interesować tylko skończone ciała pierwsze. Do sprawdzenia pierwszości możemy np. wykorzystać metodę `isPrime` z PyCryptoDome"
   ]
  },
  {
   "cell_type": "code",
   "execution_count": null,
   "id": "f564adf1",
   "metadata": {},
   "outputs": [],
   "source": [
    "from Cryptodome.Util.number import isPrime\n",
    "isPrime(13)"
   ]
  },
  {
   "cell_type": "markdown",
   "id": "d0b8892a",
   "metadata": {},
   "source": [
    "Dostaniemy też odpowiedni wynik gdy sprawdzamy liczbę która nie jest pierwsza:"
   ]
  },
  {
   "cell_type": "code",
   "execution_count": null,
   "id": "9d5b8506",
   "metadata": {},
   "outputs": [],
   "source": [
    "isPrime(15)"
   ]
  },
  {
   "cell_type": "markdown",
   "id": "1adf370e",
   "metadata": {
    "slideshow": {
     "slide_type": "subslide"
    }
   },
   "source": [
    "Tego rodzaju arytmetyka jest podstawą wielu kryptosystemów (np. RSA).\n",
    "Jednak zwykle potrzebujemy większych liczb pierwszych. Możemy je wygenerować np. używając getPrime:"
   ]
  },
  {
   "cell_type": "code",
   "execution_count": null,
   "id": "b4d78af4",
   "metadata": {},
   "outputs": [],
   "source": [
    "from Cryptodome.Util.number import getPrime\n",
    "getPrime(1024)"
   ]
  },
  {
   "cell_type": "markdown",
   "id": "df61f20d",
   "metadata": {
    "slideshow": {
     "slide_type": "slide"
    }
   },
   "source": [
    "I jak możemy zobaczyć, nasze operacje bez problemu sobie z tym radzą:"
   ]
  },
  {
   "cell_type": "code",
   "execution_count": null,
   "id": "b6569030",
   "metadata": {},
   "outputs": [],
   "source": [
    "prime = getPrime(1024)\n",
    "(1000+10**1000)%prime"
   ]
  },
  {
   "cell_type": "code",
   "execution_count": null,
   "id": "4c223bcd",
   "metadata": {},
   "outputs": [],
   "source": [
    "(1000-10**1000)%prime"
   ]
  },
  {
   "cell_type": "code",
   "execution_count": null,
   "id": "709fa701",
   "metadata": {},
   "outputs": [],
   "source": [
    "(1000*10**1000)%prime"
   ]
  },
  {
   "cell_type": "code",
   "execution_count": null,
   "id": "2d3faad1",
   "metadata": {},
   "outputs": [],
   "source": [
    "pow(100, -1, prime)"
   ]
  },
  {
   "cell_type": "markdown",
   "id": "c08ce69a",
   "metadata": {
    "slideshow": {
     "slide_type": "subslide"
    }
   },
   "source": [
    "A jak ta funkcja generuje te liczby pierwsze? Definicja jest dość prosta"
   ]
  },
  {
   "cell_type": "code",
   "execution_count": null,
   "id": "2d2541d5",
   "metadata": {},
   "outputs": [],
   "source": [
    "from Cryptodome import Random\n",
    "from Cryptodome.Util.number import getRandomNBitInteger\n",
    "def getPrime(N, randfunc=None):\n",
    "\t\"\"\"Return a random N-bit prime number.\n",
    "\n",
    "\tN must be an integer larger than 1.\n",
    "\tIf randfunc is omitted, then :meth:`Random.get_random_bytes` is used.\n",
    "\t\"\"\"\n",
    "\tif randfunc is None:\n",
    "\t\trandfunc = Random.get_random_bytes\n",
    "\t\n",
    "\tif N < 2:\n",
    "\t\traise ValueError(\"N must be larger than 1\")\n",
    "\n",
    "\twhile True:\n",
    "\t\tnumber = getRandomNBitInteger(N, randfunc) | 1\n",
    "\t\tif isPrime(number, randfunc=randfunc):\n",
    "\t\t\tbreak\n",
    "\treturn number"
   ]
  },
  {
   "cell_type": "markdown",
   "id": "0688c821",
   "metadata": {
    "slideshow": {
     "slide_type": "subslide"
    }
   },
   "source": [
    "Ale jak ta funkcja generuje liczbę losową?"
   ]
  },
  {
   "cell_type": "markdown",
   "id": "f541554e",
   "metadata": {
    "slideshow": {
     "slide_type": "slide"
    }
   },
   "source": [
    "## Zadanie 2\n",
    "### Generowanie liczb losowych"
   ]
  },
  {
   "cell_type": "markdown",
   "id": "7534f0fc",
   "metadata": {
    "slideshow": {
     "slide_type": "slide"
    }
   },
   "source": [
    "Python ma w zasadzie trzy wbudowane biblioteki do generowania liczb losowych - `random`, `secrets` is `os.urandom`"
   ]
  },
  {
   "cell_type": "markdown",
   "id": "9afacc71",
   "metadata": {},
   "source": [
    "`random` to generator pseudolosowy (MT19937), a `secrets` is `os.urandom` korzystają z systemowej losowości"
   ]
  },
  {
   "cell_type": "markdown",
   "id": "0b4fe14c",
   "metadata": {},
   "source": [
    "`random` oferuje kilka użytecznych funkcji. Na przykład:"
   ]
  },
  {
   "cell_type": "code",
   "execution_count": null,
   "id": "51ab0f99",
   "metadata": {},
   "outputs": [],
   "source": [
    "from random import choice, choices, getrandbits, random, randrange, gauss\n",
    "choice(\"abcdefg\")"
   ]
  },
  {
   "cell_type": "code",
   "execution_count": null,
   "id": "540a5875",
   "metadata": {},
   "outputs": [],
   "source": [
    "choices([1,2,3,4,5], k=3)"
   ]
  },
  {
   "cell_type": "code",
   "execution_count": null,
   "id": "6cda352f",
   "metadata": {},
   "outputs": [],
   "source": [
    "getrandbits(32)"
   ]
  },
  {
   "cell_type": "code",
   "execution_count": null,
   "id": "323e48dd",
   "metadata": {
    "slideshow": {
     "slide_type": "subslide"
    }
   },
   "outputs": [],
   "source": [
    "random()"
   ]
  },
  {
   "cell_type": "code",
   "execution_count": null,
   "id": "bde5d8b6",
   "metadata": {},
   "outputs": [],
   "source": [
    "randrange(10, 100)"
   ]
  },
  {
   "cell_type": "code",
   "execution_count": null,
   "id": "c5957037",
   "metadata": {},
   "outputs": [],
   "source": [
    "gauss()"
   ]
  },
  {
   "cell_type": "markdown",
   "id": "61b3732d",
   "metadata": {
    "slideshow": {
     "slide_type": "subslide"
    }
   },
   "source": [
    "`secrets` oferuje mniej funkcji - w zasadzie tylko 3 podobne do tych z random:"
   ]
  },
  {
   "cell_type": "code",
   "execution_count": null,
   "id": "bed66e0c",
   "metadata": {},
   "outputs": [],
   "source": [
    "from secrets import choice as secrets_choice, randbelow, randbits\n",
    "secrets_choice(\"abcdefg\")"
   ]
  },
  {
   "cell_type": "code",
   "execution_count": null,
   "id": "fe260655",
   "metadata": {},
   "outputs": [],
   "source": [
    "randbelow(100)"
   ]
  },
  {
   "cell_type": "code",
   "execution_count": null,
   "id": "50626738",
   "metadata": {},
   "outputs": [],
   "source": [
    "randbits(32)"
   ]
  },
  {
   "cell_type": "markdown",
   "id": "0ba742ab",
   "metadata": {
    "slideshow": {
     "slide_type": "subslide"
    }
   },
   "source": [
    "Dodatkowo mamy jednak funkcje do generowania tokenów - ciągów bajtów, opcjonalnie z właściwym kodowaniem"
   ]
  },
  {
   "cell_type": "code",
   "execution_count": null,
   "id": "999977d0",
   "metadata": {},
   "outputs": [],
   "source": [
    "from secrets import token_bytes, token_hex, token_urlsafe\n",
    "token_bytes(32)"
   ]
  },
  {
   "cell_type": "code",
   "execution_count": null,
   "id": "31566272",
   "metadata": {},
   "outputs": [],
   "source": [
    "token_hex(32)"
   ]
  },
  {
   "cell_type": "code",
   "execution_count": null,
   "id": "2e53ea0f",
   "metadata": {},
   "outputs": [],
   "source": [
    "token_urlsafe(32)"
   ]
  },
  {
   "cell_type": "markdown",
   "id": "0984d3c4",
   "metadata": {
    "slideshow": {
     "slide_type": "subslide"
    }
   },
   "source": [
    "`os` oferuje w zasadzie tylko jedną funkcję - `urandom` (na Linuxie jest jeszcze dość nowe `os.getrandom`, ale nie jest to dostępne na innych platformach). Także korzysta ona z systemowej losowości. Działa tak samo jak `token_bytes` (które z niej właśnie korzysta):"
   ]
  },
  {
   "cell_type": "code",
   "execution_count": null,
   "id": "f14d7709",
   "metadata": {},
   "outputs": [],
   "source": [
    "from os import urandom\n",
    "urandom(32)"
   ]
  },
  {
   "cell_type": "markdown",
   "id": "7f3812a8",
   "metadata": {},
   "source": [
    "Wracając do PyCryptodome, moduł `Cryptodome.Random` zawiera `get_random_bytes`, które jest obecnie po prostu aliasem dla `os.urandom` i robi dokładnie to samo:"
   ]
  },
  {
   "cell_type": "code",
   "execution_count": null,
   "id": "9b8abc36",
   "metadata": {},
   "outputs": [],
   "source": [
    "from Cryptodome.Random import get_random_bytes\n",
    "get_random_bytes(32)"
   ]
  },
  {
   "cell_type": "markdown",
   "id": "56cc663a",
   "metadata": {
    "slideshow": {
     "slide_type": "subslide"
    }
   },
   "source": [
    "### A co z naszym `getPrime`?"
   ]
  },
  {
   "cell_type": "markdown",
   "id": "b3b3ed42",
   "metadata": {
    "slideshow": {
     "slide_type": "subslide"
    }
   },
   "source": [
    "Korzysta z `Cryptodome.Random.get_random_bytes`, czyli w praktyce z `os.urandom`"
   ]
  },
  {
   "cell_type": "markdown",
   "id": "b7c815e9",
   "metadata": {
    "slideshow": {
     "slide_type": "slide"
    }
   },
   "source": [
    "## Do wszystkiego wymagającego bezpiecznych liczb losowych należy **UNIKAĆ** random"
   ]
  },
  {
   "cell_type": "markdown",
   "id": "0a75ba56",
   "metadata": {},
   "source": [
    "Dlaczego? Bo da się łatwo przewidzieć wyniki! Wystarczy 624 kolejne liczby by **w pełni** sklonować generator"
   ]
  },
  {
   "cell_type": "markdown",
   "id": "4064193a",
   "metadata": {
    "slideshow": {
     "slide_type": "subslide"
    }
   },
   "source": [
    "Możemy do tego wykorzystać moduł RandCrack:"
   ]
  },
  {
   "cell_type": "code",
   "execution_count": null,
   "id": "295f7cd6",
   "metadata": {},
   "outputs": [],
   "source": [
    "from randcrack import RandCrack\n",
    "rc = RandCrack()\n",
    "for i in range(624):\n",
    "\trc.submit(getrandbits(32))"
   ]
  },
  {
   "cell_type": "code",
   "execution_count": null,
   "id": "10340de1",
   "metadata": {
    "slideshow": {
     "slide_type": "subslide"
    }
   },
   "outputs": [],
   "source": [
    "print(f\"przewidziane: {rc.predict_getrandbits(32)}, losowe: {getrandbits(32)}\")"
   ]
  },
  {
   "cell_type": "markdown",
   "id": "a43ba853",
   "metadata": {
    "slideshow": {
     "slide_type": "subslide"
    }
   },
   "source": [
    "Możemy też przewidzieć inne funkcje z `random`!"
   ]
  },
  {
   "cell_type": "code",
   "execution_count": null,
   "id": "89fbb063",
   "metadata": {},
   "outputs": [],
   "source": [
    "print(f\"przewidziana: {rc.predict_random()}, losowa: {random()}\")\n",
    "print(f\"przewidziana: {rc.predict_randrange(10, 100)}, losowa: {randrange(10, 100)}\")\n",
    "print(f\"przewidziana: {rc.predict_choice('abcdefg')}, losowa: {choice('abcdefg')}\")"
   ]
  },
  {
   "cell_type": "markdown",
   "id": "38ba847a",
   "metadata": {
    "slideshow": {
     "slide_type": "subslide"
    }
   },
   "source": [
    "Oczywiście nie działa to z `secrets`:"
   ]
  },
  {
   "cell_type": "code",
   "execution_count": null,
   "id": "83910c28",
   "metadata": {},
   "outputs": [],
   "source": [
    "print(f\"przewidziane: {rc.predict_choice('abcdefg')}, losowe: {secrets_choice('abcdefg')}\")"
   ]
  },
  {
   "cell_type": "markdown",
   "id": "aaea0e10",
   "metadata": {
    "slideshow": {
     "slide_type": "subslide"
    }
   },
   "source": [
    "nawet gdy zasilimy generator z `secrets`"
   ]
  },
  {
   "cell_type": "code",
   "execution_count": null,
   "id": "ae8d02c4",
   "metadata": {},
   "outputs": [],
   "source": [
    "rcs=RandCrack()\n",
    "for i in range(624):\n",
    "\trcs.submit(randbits(32))\n",
    "print(f\"przewidziane: {rcs.predict_getrandbits(32)}, losowe: {randbits(32)}\")"
   ]
  },
  {
   "cell_type": "markdown",
   "id": "1c7762b1",
   "metadata": {
    "slideshow": {
     "slide_type": "slide"
    }
   },
   "source": [
    "### Użycie PyCryptodome "
   ]
  },
  {
   "cell_type": "markdown",
   "id": "d42fccd3",
   "metadata": {},
   "source": [
    "W tym pakiecie znajdują się dwie funkcje, które generują losowe liczby pierwsze:"
   ]
  },
  {
   "cell_type": "markdown",
   "id": "4e470d91",
   "metadata": {
    "slideshow": {
     "slide_type": "subslide"
    }
   },
   "source": [
    "- getPrime()  : returns a random N-bit prime number"
   ]
  },
  {
   "cell_type": "code",
   "execution_count": null,
   "id": "83b61e7f",
   "metadata": {},
   "outputs": [],
   "source": [
    "from Cryptodome.Util.number import getPrime"
   ]
  },
  {
   "cell_type": "code",
   "execution_count": null,
   "id": "9332eeb1",
   "metadata": {},
   "outputs": [],
   "source": [
    "random_prime = getPrime(128)\n",
    "print(f\"{'  Random prime (128 bits): ':<35} {random_prime}\")"
   ]
  },
  {
   "cell_type": "code",
   "execution_count": null,
   "id": "2a86928e",
   "metadata": {},
   "outputs": [],
   "source": [
    "from Cryptodome.Util.number import getStrongPrime"
   ]
  },
  {
   "cell_type": "markdown",
   "id": "7b40f568",
   "metadata": {
    "slideshow": {
     "slide_type": "subslide"
    }
   },
   "source": [
    "- getStrongPrime() : returns a random strong N-bit prime number."
   ]
  },
  {
   "cell_type": "markdown",
   "id": "ceb49520",
   "metadata": {},
   "source": [
    "W tym kontekście p jest silną liczbą pierwszą, jeśli p-1 i p+1 mają co najmniej jeden duży czynnik pierwszy"
   ]
  },
  {
   "cell_type": "code",
   "execution_count": null,
   "id": "2ad9c50a",
   "metadata": {},
   "outputs": [],
   "source": [
    "strong_random_prime = getStrongPrime(512)\n",
    "print(f\"{'  Strong random prime (512 bits): ':<35} {strong_random_prime}\")"
   ]
  },
  {
   "cell_type": "markdown",
   "id": "a5a6a3d1",
   "metadata": {
    "slideshow": {
     "slide_type": "slide"
    }
   },
   "source": [
    "## Zadanie 3\n",
    "### Szyfrowanie AES"
   ]
  },
  {
   "cell_type": "markdown",
   "id": "8916c721",
   "metadata": {
    "slideshow": {
     "slide_type": "slide"
    }
   },
   "source": [
    "PyCryptodome obsługuje szyfr AES w klasie `AES` w `Cryptodome.Cipher`"
   ]
  },
  {
   "cell_type": "code",
   "execution_count": null,
   "id": "ea937412",
   "metadata": {},
   "outputs": [],
   "source": [
    "from Cryptodome.Cipher import AES"
   ]
  },
  {
   "cell_type": "markdown",
   "id": "e9acf1eb",
   "metadata": {
    "slideshow": {
     "slide_type": "subslide"
    }
   },
   "source": [
    "W celu zaszyfrowania czegokolwiek musimy jednak najpierw wygenerować klucz - możemy do tego użyć metod z poprzedniego zadania, np. z `secrets`:"
   ]
  },
  {
   "cell_type": "code",
   "execution_count": null,
   "id": "5f7604b3",
   "metadata": {},
   "outputs": [],
   "source": [
    "from secrets import token_bytes\n",
    "key = token_bytes(16)\n",
    "key"
   ]
  },
  {
   "cell_type": "markdown",
   "id": "71bbe702",
   "metadata": {
    "slideshow": {
     "slide_type": "subslide"
    }
   },
   "source": [
    "Musimy też wczytać dane do zaszyfrowania, do czego możemy użyć po prostu metod wbudowanych w Pythona."
   ]
  },
  {
   "cell_type": "code",
   "execution_count": null,
   "id": "de10b22b",
   "metadata": {},
   "outputs": [],
   "source": [
    "with open(\"Jakub_Bliźniuk_Bartłomiej_Dmitruk.txt\", \"rb\") as f:\n",
    "\tdata = f.read()\n",
    "data"
   ]
  },
  {
   "cell_type": "markdown",
   "id": "203e49aa",
   "metadata": {
    "slideshow": {
     "slide_type": "subslide"
    }
   },
   "source": [
    "Ponieważ AES pracuje na blokach, musimy się upewnić, że nasze dane mają długość wielokrotności rozmiaru bloku. PyCryptodome dostarcza do tego metody `pad`:"
   ]
  },
  {
   "cell_type": "code",
   "execution_count": null,
   "id": "34769e89",
   "metadata": {},
   "outputs": [],
   "source": [
    "from Cryptodome.Util.Padding import pad\n",
    "padded_data = pad(data, AES.block_size)\n",
    "padded_data"
   ]
  },
  {
   "cell_type": "markdown",
   "id": "db0ae508",
   "metadata": {
    "slideshow": {
     "slide_type": "subslide"
    }
   },
   "source": [
    "Zostało już tylko stworzyć obiekt klasy i możemy szyfrować:"
   ]
  },
  {
   "cell_type": "code",
   "execution_count": null,
   "id": "8cf1ec42",
   "metadata": {},
   "outputs": [],
   "source": [
    "cipher = AES.new(key, AES.MODE_CBC)\n",
    "ciphertext = cipher.encrypt(padded_data)\n",
    "ciphertext"
   ]
  },
  {
   "cell_type": "markdown",
   "id": "2af99e06",
   "metadata": {
    "slideshow": {
     "slide_type": "fragment"
    }
   },
   "source": [
    "warto zauważyć, że używamy tutaj demonstracyjnie trybu CBC (zamiast bardziej nowoczesnych), do którego automatycznie generujemy IV - które dość prosto odzyskać z obiektu szyfru:"
   ]
  },
  {
   "cell_type": "code",
   "execution_count": null,
   "id": "68cf1e36",
   "metadata": {
    "slideshow": {
     "slide_type": "fragment"
    }
   },
   "outputs": [],
   "source": [
    "cipher.iv"
   ]
  },
  {
   "cell_type": "markdown",
   "id": "bf545d7c",
   "metadata": {
    "slideshow": {
     "slide_type": "subslide"
    }
   },
   "source": [
    "Odszyfrowanie jest równie proste:"
   ]
  },
  {
   "cell_type": "code",
   "execution_count": null,
   "id": "8b7f213c",
   "metadata": {},
   "outputs": [],
   "source": [
    "decryption_cipher = AES.new(key, AES.MODE_CBC, iv=cipher.iv)\n",
    "decrypted_data = decryption_cipher.decrypt(ciphertext)\n",
    "decrypted_data"
   ]
  },
  {
   "cell_type": "markdown",
   "id": "faec2f16",
   "metadata": {
    "slideshow": {
     "slide_type": "subslide"
    }
   },
   "source": [
    "Choć też musimy skorzystać z funkcji do paddingu by odzyskać rzeczywisty oryginał:"
   ]
  },
  {
   "cell_type": "code",
   "execution_count": null,
   "id": "adc55a53",
   "metadata": {},
   "outputs": [],
   "source": [
    "from Cryptodome.Util.Padding import unpad\n",
    "unpad(decrypted_data, AES.block_size)"
   ]
  },
  {
   "cell_type": "markdown",
   "id": "7c60fda6",
   "metadata": {
    "slideshow": {
     "slide_type": "fragment"
    }
   },
   "source": [
    "Przy czym jest to obiekt `bytes`, z co widzimy po dziwnym przedstawieniu znaków z Unicode. By odzyskać prostego stringa musimy po prostu odkodować string:"
   ]
  },
  {
   "cell_type": "code",
   "execution_count": null,
   "id": "0a2822c1",
   "metadata": {
    "slideshow": {
     "slide_type": "fragment"
    }
   },
   "outputs": [],
   "source": [
    "unpad(decrypted_data, AES.block_size).decode()"
   ]
  },
  {
   "cell_type": "markdown",
   "id": "3abdf553",
   "metadata": {
    "slideshow": {
     "slide_type": "slide"
    }
   },
   "source": [
    "### Wprowadzanie błędów"
   ]
  },
  {
   "cell_type": "markdown",
   "id": "788ec69f",
   "metadata": {
    "slideshow": {
     "slide_type": "subslide"
    }
   },
   "source": [
    "### Co się dzieje gdy klucz jest niepoprawny?"
   ]
  },
  {
   "cell_type": "code",
   "execution_count": null,
   "id": "2de60f99",
   "metadata": {},
   "outputs": [],
   "source": [
    "from Cryptodome.Util.strxor import strxor\n",
    "invalid_key_cipher = AES.new(strxor(key, b'just some errors') , AES.MODE_CBC, iv=cipher.iv)\n",
    "invalid_key_data = invalid_key_cipher.decrypt(ciphertext)\n",
    "invalid_key_data\n"
   ]
  },
  {
   "cell_type": "markdown",
   "id": "575e3fc6",
   "metadata": {
    "slideshow": {
     "slide_type": "subslide"
    }
   },
   "source": [
    "Jak widać, otrzymujemy zupełnie złe dane... Nawet usuwanie paddingu nie działa przez to, że jest inny niż w oryginale:"
   ]
  },
  {
   "cell_type": "code",
   "execution_count": null,
   "id": "4430c9ba",
   "metadata": {},
   "outputs": [],
   "source": [
    "unpad(invalid_key_data, AES.block_size)"
   ]
  },
  {
   "cell_type": "markdown",
   "id": "84ee18ff",
   "metadata": {
    "slideshow": {
     "slide_type": "subslide"
    }
   },
   "source": [
    "### A co ze złym tekstem?"
   ]
  },
  {
   "cell_type": "markdown",
   "id": "1bd221cc",
   "metadata": {
    "slideshow": {
     "slide_type": "subslide"
    }
   },
   "source": [
    "Dodając błąd na początku widzimy tu nawet kawałek tekstu źródłowego:"
   ]
  },
  {
   "cell_type": "code",
   "execution_count": null,
   "id": "fbfbd8f9",
   "metadata": {},
   "outputs": [],
   "source": [
    "invalid_ciphertext = b'\\x00' + ciphertext[1:]\n",
    "decryption_cipher.decrypt(invalid_ciphertext)"
   ]
  },
  {
   "cell_type": "markdown",
   "id": "f308e522",
   "metadata": {
    "slideshow": {
     "slide_type": "subslide"
    }
   },
   "source": [
    "Jeśli jednak zrobimy to na końcu lub środku przynajmniej na pierwszy rzut oka dostajemy niezwiązany tekst:"
   ]
  },
  {
   "cell_type": "code",
   "execution_count": null,
   "id": "d23ab713",
   "metadata": {},
   "outputs": [],
   "source": [
    "invalid_ciphertext = ciphertext[:-1] + b'\\x00'\n",
    "decryption_cipher.decrypt(invalid_ciphertext)"
   ]
  },
  {
   "cell_type": "code",
   "execution_count": null,
   "id": "306546b7",
   "metadata": {},
   "outputs": [],
   "source": [
    "invalid_ciphertext = ciphertext[:-10] + b'\\x00' + ciphertext[-9:]\n",
    "decryption_cipher.decrypt(invalid_ciphertext)\n"
   ]
  },
  {
   "cell_type": "markdown",
   "id": "4ed78a02",
   "metadata": {
    "slideshow": {
     "slide_type": "subslide"
    }
   },
   "source": [
    "To jak będą wyglądały błędy będzie jednak w pełni zależeć od wybranego trybu szyfrowania - gdybyśmy korzystali z ECB na przykład, błąd dotykał by tylko bloku w którym się znajduje, ponieważ bloki nie są od siebie zależne"
   ]
  },
  {
   "cell_type": "markdown",
   "id": "8bb934aa",
   "metadata": {
    "slideshow": {
     "slide_type": "slide"
    }
   },
   "source": [
    "## Zadanie 4\n",
    "### Funkcja skrótu"
   ]
  },
  {
   "cell_type": "markdown",
   "id": "67cd054c",
   "metadata": {},
   "source": [
    "Wykorzystując plik z poprzedniego ćwiczenia obliczamy z niego skrót."
   ]
  },
  {
   "cell_type": "markdown",
   "id": "c231d750",
   "metadata": {
    "slideshow": {
     "slide_type": "subslide"
    }
   },
   "source": [
    "PyCryptodome umożliwia obliczanie skrótów za pomocą wielu funkcji skrótu. W celach prezentacji użyliśmy trzech funkcji:\n",
    "- SHA\n",
    "- SHA3\n",
    "- MD5"
   ]
  },
  {
   "cell_type": "code",
   "execution_count": null,
   "id": "15bf022c",
   "metadata": {},
   "outputs": [],
   "source": [
    "from Cryptodome.Hash import SHA256\n",
    "from Cryptodome.Hash import SHA3_256\n",
    "from Cryptodome.Hash import MD5\n",
    "\n",
    "hash_MD5 = MD5.new()\n",
    "hash_SHA_256 = SHA256.new()\n",
    "hash_SHA3_256 = SHA3_256.new()"
   ]
  },
  {
   "cell_type": "markdown",
   "id": "08e48ecc",
   "metadata": {
    "slideshow": {
     "slide_type": "subslide"
    }
   },
   "source": [
    "Do ćwiczenia wykorzystujemy plik z poprzedniego zadania: "
   ]
  },
  {
   "cell_type": "code",
   "execution_count": null,
   "id": "973d71c1",
   "metadata": {},
   "outputs": [],
   "source": [
    "filename = \"Jakub_Bliźniuk_Bartłomiej_Dmitruk.txt\""
   ]
  },
  {
   "cell_type": "markdown",
   "id": "ed1c4d7b",
   "metadata": {
    "slideshow": {
     "slide_type": "subslide"
    }
   },
   "source": [
    "Aby umożliwiać wielokrotne wykorzystywanie kodu nadpisujemy tekst:"
   ]
  },
  {
   "cell_type": "code",
   "execution_count": null,
   "id": "700e771f",
   "metadata": {},
   "outputs": [],
   "source": [
    "with open(filename, \"w\", encoding=\"utf-8\") as f:\n",
    "    f.write(\"To wiadomość do zaszyfrowania\")"
   ]
  },
  {
   "cell_type": "markdown",
   "id": "5092a06e",
   "metadata": {
    "slideshow": {
     "slide_type": "subslide"
    }
   },
   "source": [
    "Następnym krokiem jest odczytywanie pliku blokami i stworzenie skrótu:"
   ]
  },
  {
   "cell_type": "code",
   "execution_count": null,
   "id": "46df5dc3",
   "metadata": {},
   "outputs": [],
   "source": [
    "with open(filename, \"rb\") as f:\n",
    "\twhile data := f.read(1024):\n",
    "\t\thash_MD5.update(data)\n",
    "\t\thash_SHA_256.update(data)\n",
    "\t\thash_SHA3_256.update(data)"
   ]
  },
  {
   "cell_type": "markdown",
   "id": "8ab2eef3",
   "metadata": {
    "slideshow": {
     "slide_type": "subslide"
    }
   },
   "source": [
    "By poznać skrót musimy użyć metody `digest` lub `hexdigest` - gdzie ta pierwsza zwraca nam dane binarne, a druga hexydecymalny string:"
   ]
  },
  {
   "cell_type": "code",
   "execution_count": null,
   "id": "d5cc8a2e",
   "metadata": {},
   "outputs": [],
   "source": [
    "hash_MD5.digest()"
   ]
  },
  {
   "cell_type": "code",
   "execution_count": null,
   "id": "eb89b919",
   "metadata": {},
   "outputs": [],
   "source": [
    "print(\"MD5:      \", hash_MD5.hexdigest())\n",
    "print(\"SHA-256:  \", hash_SHA_256.hexdigest())\n",
    "print(\"SHA3-256: \", hash_SHA3_256.hexdigest())"
   ]
  },
  {
   "cell_type": "markdown",
   "id": "b5c5fdf9",
   "metadata": {
    "slideshow": {
     "slide_type": "subslide"
    }
   },
   "source": [
    "Następnie zmieniamy treść pliku na: \"Ta wiadomość do zaszyfrowania\""
   ]
  },
  {
   "cell_type": "code",
   "execution_count": null,
   "id": "a53e1d86",
   "metadata": {},
   "outputs": [],
   "source": [
    "with open(filename, \"w\", encoding=\"utf-8\") as f:\n",
    "    f.write(\"Ta wiadomość do zaszyfrowania\")"
   ]
  },
  {
   "cell_type": "markdown",
   "id": "aab791e8",
   "metadata": {
    "slideshow": {
     "slide_type": "subslide"
    }
   },
   "source": [
    "Analogicznie obliczamy skróty dla nowej wersji pliku."
   ]
  },
  {
   "cell_type": "code",
   "execution_count": null,
   "id": "102cdc2f",
   "metadata": {},
   "outputs": [],
   "source": [
    "hash2_SHA_256 = SHA256.new()\n",
    "hash2_MD5 = MD5.new()\n",
    "hash2_SHA3_256 = SHA3_256.new()\n",
    "\n",
    "with open(filename, \"rb\") as f:\n",
    "\twhile data := f.read(1024):\n",
    "\t\thash2_SHA_256.update(data)\n",
    "\t\thash2_MD5.update(data)\n",
    "\t\thash2_SHA3_256.update(data)\n",
    "print(\"MD5:      \", hash2_MD5.hexdigest())\n",
    "print(\"SHA-256:  \", hash2_SHA_256.hexdigest())\n",
    "print(\"SHA3-256: \", hash2_SHA3_256.hexdigest())"
   ]
  },
  {
   "cell_type": "markdown",
   "id": "15a35f89",
   "metadata": {
    "slideshow": {
     "slide_type": "subslide"
    }
   },
   "source": [
    "Następnie porównujemy wartości hashy w oryginalnym i zmodyfikowanym pliku."
   ]
  },
  {
   "cell_type": "code",
   "execution_count": null,
   "id": "672f2c32",
   "metadata": {},
   "outputs": [],
   "source": [
    "if hash_MD5.hexdigest() == hash2_MD5.hexdigest():\n",
    "    print(f\"MD5 są równe: {hash_MD5.hexdigest()}\")\n",
    "else:\n",
    "    print(f\"MD5 są różne: {hash_MD5.hexdigest()} i {hash2_MD5.hexdigest()}\")\n",
    "if hash_SHA_256.hexdigest() == hash2_SHA_256.hexdigest():\n",
    "    print(f\"SHA-256 są równe: {hash_SHA_256.hexdigest()}\")\n",
    "else:\n",
    "    print(f\"SHA-256 są różne: {hash_SHA_256.hexdigest()} i {hash2_SHA_256.hexdigest()}\")\n",
    "\n",
    "if hash_SHA3_256.hexdigest() == hash2_SHA3_256.hexdigest():\n",
    "    print(f\"SHA3-256 są równe: {hash_SHA3_256.hexdigest()}\")\n",
    "else:\n",
    "    print(f\"SHA3-256 są rózne: {hash_SHA3_256.hexdigest()} i {hash2_SHA3_256.hexdigest()}\")"
   ]
  },
  {
   "cell_type": "markdown",
   "id": "e5ee7634",
   "metadata": {
    "slideshow": {
     "slide_type": "slide"
    }
   },
   "source": [
    "# Koniec\n",
    "\n",
    "### Autorzy: \n",
    "#### Jakub Bliźniuk i Bartłomiej Dmitruk"
   ]
  },
  {
   "cell_type": "markdown",
   "id": "6f2dac4d",
   "metadata": {
    "slideshow": {
     "slide_type": "skip"
    }
   },
   "source": [
    "Czyszczenie po zmianach w plikach:"
   ]
  },
  {
   "cell_type": "code",
   "execution_count": null,
   "id": "3b39ab01",
   "metadata": {
    "slideshow": {
     "slide_type": "skip"
    }
   },
   "outputs": [],
   "source": [
    "with open(filename, \"w\", encoding=\"utf-8\") as f:\n",
    "    f.write(\"To wiadomość do zaszyfrowania\")"
   ]
  },
  {
   "cell_type": "code",
   "execution_count": null,
   "id": "40f67c98",
   "metadata": {
    "slideshow": {
     "slide_type": "skip"
    }
   },
   "outputs": [],
   "source": []
  }
 ],
 "metadata": {
  "celltoolbar": "Slideshow",
  "kernelspec": {
   "display_name": "Python 3 (ipykernel)",
   "language": "python",
   "name": "python3"
  },
  "language_info": {
   "codemirror_mode": {
    "name": "ipython",
    "version": 3
   },
   "file_extension": ".py",
   "mimetype": "text/x-python",
   "name": "python",
   "nbconvert_exporter": "python",
   "pygments_lexer": "ipython3",
   "version": "3.11.2"
  },
  "rise": {
   "theme": "black"
  }
 },
 "nbformat": 4,
 "nbformat_minor": 5
}
